{
 "cells": [
  {
   "cell_type": "code",
   "execution_count": 1,
   "metadata": {},
   "outputs": [],
   "source": [
    "import requests # http에 접속 요청 처리\n",
    "from bs4 import BeautifulSoup #웹 크롤링에 필수\n",
    "from time import sleep #운영 체제의 시간 관련 기능을 다룸\n",
    "import pandas as pd #dataframe 생성\n",
    "import os #directory 관련\n",
    "from urllib import parse #웹상의 문서나 파일을 가져올 수 있게함\n",
    "from urllib.request import urlopen\n",
    "import urllib"
   ]
  },
  {
   "cell_type": "code",
   "execution_count": 8,
   "metadata": {},
   "outputs": [
    {
     "name": "stdin",
     "output_type": "stream",
     "text": [
      "키워드를 입력하세요:  세탁조청소\n"
     ]
    },
    {
     "name": "stdout",
     "output_type": "stream",
     "text": [
      "저장이 완료되었습니다\n"
     ]
    },
    {
     "data": {
      "text/html": [
       "<div>\n",
       "<style scoped>\n",
       "    .dataframe tbody tr th:only-of-type {\n",
       "        vertical-align: middle;\n",
       "    }\n",
       "\n",
       "    .dataframe tbody tr th {\n",
       "        vertical-align: top;\n",
       "    }\n",
       "\n",
       "    .dataframe thead th {\n",
       "        text-align: right;\n",
       "    }\n",
       "</style>\n",
       "<table border=\"1\" class=\"dataframe\">\n",
       "  <thead>\n",
       "    <tr style=\"text-align: right;\">\n",
       "      <th></th>\n",
       "      <th>세탁조청소</th>\n",
       "    </tr>\n",
       "  </thead>\n",
       "  <tbody>\n",
       "    <tr>\n",
       "      <th>0</th>\n",
       "      <td>http://www.ruhensmall.com</td>\n",
       "    </tr>\n",
       "    <tr>\n",
       "      <th>1</th>\n",
       "      <td>http://www.woorihomecare.com</td>\n",
       "    </tr>\n",
       "    <tr>\n",
       "      <th>2</th>\n",
       "      <td>http://www.gong100.kr/</td>\n",
       "    </tr>\n",
       "    <tr>\n",
       "      <th>3</th>\n",
       "      <td>https://smartstore.naver.com/homekeeping</td>\n",
       "    </tr>\n",
       "    <tr>\n",
       "      <th>4</th>\n",
       "      <td>http://www.kshomecare.co.kr/</td>\n",
       "    </tr>\n",
       "    <tr>\n",
       "      <th>5</th>\n",
       "      <td>https://dailyhabit.co.kr</td>\n",
       "    </tr>\n",
       "    <tr>\n",
       "      <th>6</th>\n",
       "      <td>http://www.le-jour.com</td>\n",
       "    </tr>\n",
       "    <tr>\n",
       "      <th>7</th>\n",
       "      <td>http://hometotalsvc.co.kr/</td>\n",
       "    </tr>\n",
       "    <tr>\n",
       "      <th>8</th>\n",
       "      <td>http://ohou.se</td>\n",
       "    </tr>\n",
       "    <tr>\n",
       "      <th>9</th>\n",
       "      <td>http://www.dongwoohome.com/</td>\n",
       "    </tr>\n",
       "  </tbody>\n",
       "</table>\n",
       "</div>"
      ],
      "text/plain": [
       "                                      세탁조청소\n",
       "0                 http://www.ruhensmall.com\n",
       "1              http://www.woorihomecare.com\n",
       "2                    http://www.gong100.kr/\n",
       "3  https://smartstore.naver.com/homekeeping\n",
       "4              http://www.kshomecare.co.kr/\n",
       "5                  https://dailyhabit.co.kr\n",
       "6                    http://www.le-jour.com\n",
       "7                http://hometotalsvc.co.kr/\n",
       "8                            http://ohou.se\n",
       "9               http://www.dongwoohome.com/"
      ]
     },
     "execution_count": 8,
     "metadata": {},
     "output_type": "execute_result"
    }
   ],
   "source": [
    "keyword = input(\"키워드를 입력하세요: \")\n",
    "\n",
    "tmp1 = 'https://ad.search.naver.com/search.naver?where=ad'\n",
    "html = tmp1 + '&sm=svc_nrs&query={key_word}&referenceId=UEtOolp0JXossmZOzrKssssstwo-367639&pagingIndex={num}'\n",
    "\n",
    "response = urlopen(html.format(num=1, key_word=urllib.parse.quote(keyword)))\n",
    "soup = BeautifulSoup(response, \"html.parser\")\n",
    "tmp =soup.select('.url')\n",
    "tmp_list = []\n",
    "for line in tmp:\n",
    "    tmp_list.append(line.text)\n",
    "    \n",
    "for i in range(2,5):\n",
    "    response = urlopen(html.format(num=i, key_word=urllib.parse.quote(keyword)))\n",
    "    soup = BeautifulSoup(response, \"html.parser\")\n",
    "    tmp =soup.select('.url')\n",
    "    for line in tmp:\n",
    "        tmp_list.append(line.text)\n",
    "#tmp_list\n",
    "df = pd.DataFrame(tmp_list)\n",
    "df\n",
    "df.columns = [keyword]\n",
    "df.to_csv('@네이버파워링크_%s.csv' % keyword, index=False, encoding='utf-8-sig')\n",
    "print(\"저장이 완료되었습니다\")\n",
    "df.head(10)"
   ]
  },
  {
   "cell_type": "code",
   "execution_count": 18,
   "metadata": {},
   "outputs": [
    {
     "data": {
      "text/plain": [
       "['훈스']"
      ]
     },
     "execution_count": 18,
     "metadata": {},
     "output_type": "execute_result"
    }
   ],
   "source": [
    "url='https://www.hun-s.com/'\n",
    "response01 = urlopen(url)\n",
    "soup01 = BeautifulSoup(response01, \"html.parser\")\n",
    "tmp01 =soup01.select('title')\n",
    "tmp01_list = []\n",
    "for line in tmp01:\n",
    "    tmp01_list.append(line.text)\n",
    "tmp01_list"
   ]
  },
  {
   "cell_type": "code",
   "execution_count": 23,
   "metadata": {},
   "outputs": [],
   "source": [
    "df = pd.read_csv('@네이버파워링크_%s.csv' % keyword)\n",
    "url_list = df[keyword].tolist()"
   ]
  },
  {
   "cell_type": "code",
   "execution_count": 24,
   "metadata": {},
   "outputs": [
    {
     "data": {
      "text/plain": [
       "['http://www.hun-s.com',\n",
       " 'http://www.superstari.co.kr',\n",
       " 'http://mr-s.co.kr',\n",
       " 'http://www.okkane.co.kr',\n",
       " 'http://www.jogunshop.com',\n",
       " 'http://www.eurohomme.co.kr',\n",
       " 'http://www.meosidda.com',\n",
       " 'https://www.byslim.com',\n",
       " 'http://www.cheat-key.com',\n",
       " 'http://store.musinsa.com',\n",
       " 'http://www.el-homme.com',\n",
       " 'http://www.boom-style.com',\n",
       " 'http://www.hisfit.co.kr',\n",
       " 'http://tomstory.co.kr',\n",
       " 'http://www.disco-j.co.kr/',\n",
       " 'http://www.heich.kr/',\n",
       " 'http://www.styleman.kr',\n",
       " 'http://www.zenbro.co.kr',\n",
       " 'http://www.hotcodeshop.com',\n",
       " 'http://azik.co.kr',\n",
       " 'http://www.koreanapparel.co.kr',\n",
       " 'http://vingenam.com',\n",
       " 'http://oggirl.co.kr',\n",
       " 'http://www.looknfive.com',\n",
       " 'http://mi-min.com',\n",
       " 'http://91center.kr/',\n",
       " 'http://www.jbros.co.kr',\n",
       " 'http://shoeglam.co.kr',\n",
       " 'http://www.modernclass.kr',\n",
       " 'http://www.tokio.kr',\n",
       " 'http://tomonari.co.kr',\n",
       " 'http://www.fairplay142.com',\n",
       " 'https://smartstore.naver.com/810closet',\n",
       " 'http://www.newcheapchic.store',\n",
       " 'http://www.goldenbo2.com',\n",
       " 'http://www.riverbig.co.kr',\n",
       " 'http://www.rodaenty.co.kr',\n",
       " 'http://www.young-long.com',\n",
       " 'http://energymax.kr',\n",
       " 'https://smartstore.naver.com/12button',\n",
       " 'http://www.minor-white.com',\n",
       " 'http://www.guylook.co.kr',\n",
       " 'http://www.bechic.co.kr',\n",
       " 'http://www.everfree.co.kr',\n",
       " 'http://smartstore.naver.com/fitchinnom',\n",
       " 'http://bbno.kr',\n",
       " 'https://smartstore.naver.com/mildmarket',\n",
       " 'http://smartstore.naver.com/bjm4804',\n",
       " 'http://www.gloomyeyes.com',\n",
       " 'http://www.wemakeprice.com',\n",
       " 'http://www.ruh-e.com',\n",
       " 'https://snoopick.co.kr',\n",
       " 'http://otmmefatale.com',\n",
       " 'http://www.mens-castle.co.kr',\n",
       " 'http://www.nakedsoul.co.kr',\n",
       " 'http://madern.co.kr',\n",
       " 'http://www.jsystem.co.kr',\n",
       " 'http://www.평양면세점.com',\n",
       " 'http://www.웨어하우스146.com',\n",
       " 'http://minidaly.co.kr/',\n",
       " 'http://www.itaewonmall.com/',\n",
       " 'http://www.akok.co.kr',\n",
       " 'http://www.ultrafashion.net',\n",
       " 'http://smartstore.naver.com/noohasa',\n",
       " 'http://www.mansmc2.com',\n",
       " 'http://www.star2007.com',\n",
       " 'http://www.magicfashion.co.kr',\n",
       " 'https://contain.co.kr',\n",
       " 'http://shop.agit.kr',\n",
       " 'http://www.ellotte.com',\n",
       " 'https://smartstore.naver.com/brohere',\n",
       " 'http://www.one-chic.com',\n",
       " 'http://www.sofartogo.kr',\n",
       " 'http://www.decoroso.net',\n",
       " 'https://smartstore.naver.com/youthcontainer',\n",
       " 'https://www.snsform.co.kr/',\n",
       " 'http://lookple.com',\n",
       " 'https://smartstore.naver.com/loveocean',\n",
       " 'https://in-black.com',\n",
       " 'http://www.grandmood.co.kr',\n",
       " 'https://smartstore.naver.com/datonlyju',\n",
       " 'http://www.kimminseok.asia',\n",
       " 'https://smartstore.naver.com/bleakbake',\n",
       " 'https://theover.co.kr/',\n",
       " 'http://www.value-clothes.com',\n",
       " 'http://www.gsshop.com',\n",
       " 'http://www.arpe.kr/',\n",
       " 'https://smartstore.naver.com/all_fit_',\n",
       " 'http://www.gmarket.co.kr',\n",
       " 'https://smartstore.naver.com/hoim',\n",
       " 'http://smartstore.naver.com/orooro',\n",
       " 'http://costmall.co.kr',\n",
       " 'https://smartstore.naver.com/jookyungmall',\n",
       " 'http://www.dhstyle.co.kr',\n",
       " 'http://keek-line.com',\n",
       " 'http://www.11st.co.kr',\n",
       " 'http://smartstore.naver.com/vobolt',\n",
       " 'https://smartstore.naver.com/goodtemsm',\n",
       " 'http://refind.co.kr',\n",
       " 'http://www.cozi-ness.com/']"
      ]
     },
     "execution_count": 24,
     "metadata": {},
     "output_type": "execute_result"
    }
   ],
   "source": [
    "url_list"
   ]
  },
  {
   "cell_type": "code",
   "execution_count": 33,
   "metadata": {},
   "outputs": [
    {
     "data": {
      "text/plain": [
       "['훈스',\n",
       " '스타일, 사이즈, 가격, 고객만족 슈퍼스타아이',\n",
       " '미스터스트릿',\n",
       " '입고싶은 옷! 반드시 입자! ▒OKKANE Style▒',\n",
       " '★끌리는 남성의류, 조군샵★',\n",
       " '유로옴므',\n",
       " '머시따, 퀄리티 중심',\n",
       " '바이슬림~핏이좋은 남자쇼핑몰!!',\n",
       " '남자들의 패션, 치트키',\n",
       " '무신사 스토어',\n",
       " '엘옴므-ELHOMME',\n",
       " '붐스타일 since 2004',\n",
       " '여자가 코디해주는 남자쇼핑몰 히즈핏',\n",
       " '톰스토리 Tomstory 모던 캐주얼 유니섹스',\n",
       " 'DISCO-J',\n",
       " 'HEICH BLADE SHOP',\n",
       " '스타일맨 - styleman',\n",
       " '젠브로 - 친절상담, 남자데일리룩',\n",
       " '젠브로',\n",
       " '핫코드',\n",
       " '아직(azik)',\n",
       " '우리를 알아달라, \"코리안 어패럴\"',\n",
       " '빈지남-남성의류,빈티지,유니크',\n",
       " '옷골라주는 여자',\n",
       " '룩앤파이브',\n",
       " '엠아이민 (MI-MIN) ',\n",
       " '91센터',\n",
       " 'JBROS _ High Quality Select Shop',\n",
       " 'JBROS High Quality Select Shop',\n",
       " 'JBROS High Quality Select Shop',\n",
       " '남자신발전문 슈그램',\n",
       " 'Modern-Class',\n",
       " '토키오 고객중심 남성쇼핑몰',\n",
       " '토키오 고객중심 남성쇼핑몰',\n",
       " '토모나리',\n",
       " '아낌없이 주는 페플',\n",
       " '\\n\\t\\t\\t\\t810클로젯\\n',\n",
       " '뉴치프시크',\n",
       " '골든보이',\n",
       " '리버빅',\n",
       " '로댄티',\n",
       " '영롱 - 데일리 남성 쇼핑몰',\n",
       " '에너지맥스 - 뉴트라원 ',\n",
       " '에너지맥스로 삶의 활력을~',\n",
       " '\\n\\t\\t\\t\\t12버튼\\n',\n",
       " '마이너화이트',\n",
       " '가이룩',\n",
       " '비시크▷댄디 캐주얼의 최강자 매일신상 매일파격할인 비시크◁ ',\n",
       " '에버프리',\n",
       " '\\n\\t\\t\\t\\t핏친놈\\n',\n",
       " 'BBNO',\n",
       " '\\n\\t\\t\\t\\t마일드마켓\\n',\n",
       " '\\n\\t\\t\\t\\t쁘띠룩\\n',\n",
       " 'GLOOMYEYES',\n",
       " '데일리 수트는, 루에',\n",
       " '멋진 나를 찾는 순간, 스누픽',\n",
       " '옷므파탈',\n",
       " '옷을, 사랑하는 맨즈캐슬',\n",
       " '네이키드소울',\n",
       " '마던',\n",
       " '제이시스템',\n",
       " '제이시스템',\n",
       " '훈스']"
      ]
     },
     "execution_count": 33,
     "metadata": {},
     "output_type": "execute_result"
    }
   ],
   "source": [
    "response01 = urlopen(url_list[0])\n",
    "soup01 = BeautifulSoup(response01, \"html.parser\")\n",
    "tmp01 =soup01.select('meta.title')\n",
    "for line in tmp01:\n",
    "    tmp01_list.append(line.text)\n",
    "tmp01_list"
   ]
  },
  {
   "cell_type": "code",
   "execution_count": 27,
   "metadata": {},
   "outputs": [
    {
     "name": "stderr",
     "output_type": "stream",
     "text": [
      "Some characters could not be decoded, and were replaced with REPLACEMENT CHARACTER.\n"
     ]
    },
    {
     "ename": "UnicodeEncodeError",
     "evalue": "'latin-1' codec can't encode characters in position 4-8: ordinal not in range(256)",
     "output_type": "error",
     "traceback": [
      "\u001b[1;31m---------------------------------------------------------------------------\u001b[0m",
      "\u001b[1;31mUnicodeEncodeError\u001b[0m                        Traceback (most recent call last)",
      "\u001b[1;32m<ipython-input-27-b052d15128da>\u001b[0m in \u001b[0;36m<module>\u001b[1;34m\u001b[0m\n\u001b[0;32m      1\u001b[0m \u001b[1;32mfor\u001b[0m \u001b[0murl\u001b[0m \u001b[1;32min\u001b[0m \u001b[0murl_list\u001b[0m\u001b[1;33m:\u001b[0m\u001b[1;33m\u001b[0m\u001b[1;33m\u001b[0m\u001b[0m\n\u001b[1;32m----> 2\u001b[1;33m     \u001b[0mresponse01\u001b[0m \u001b[1;33m=\u001b[0m \u001b[0murlopen\u001b[0m\u001b[1;33m(\u001b[0m\u001b[0murl\u001b[0m\u001b[1;33m)\u001b[0m\u001b[1;33m\u001b[0m\u001b[1;33m\u001b[0m\u001b[0m\n\u001b[0m\u001b[0;32m      3\u001b[0m     \u001b[0msoup01\u001b[0m \u001b[1;33m=\u001b[0m \u001b[0mBeautifulSoup\u001b[0m\u001b[1;33m(\u001b[0m\u001b[0mresponse01\u001b[0m\u001b[1;33m,\u001b[0m \u001b[1;34m\"html.parser\"\u001b[0m\u001b[1;33m)\u001b[0m\u001b[1;33m\u001b[0m\u001b[1;33m\u001b[0m\u001b[0m\n\u001b[0;32m      4\u001b[0m     \u001b[0mtmp01\u001b[0m \u001b[1;33m=\u001b[0m\u001b[0msoup01\u001b[0m\u001b[1;33m.\u001b[0m\u001b[0mselect\u001b[0m\u001b[1;33m(\u001b[0m\u001b[1;34m'title'\u001b[0m\u001b[1;33m)\u001b[0m\u001b[1;33m\u001b[0m\u001b[1;33m\u001b[0m\u001b[0m\n\u001b[0;32m      5\u001b[0m     \u001b[1;32mfor\u001b[0m \u001b[0mline\u001b[0m \u001b[1;32min\u001b[0m \u001b[0mtmp01\u001b[0m\u001b[1;33m:\u001b[0m\u001b[1;33m\u001b[0m\u001b[1;33m\u001b[0m\u001b[0m\n",
      "\u001b[1;32m~\\Miniconda3\\envs\\nims-academy-2019-08\\lib\\urllib\\request.py\u001b[0m in \u001b[0;36murlopen\u001b[1;34m(url, data, timeout, cafile, capath, cadefault, context)\u001b[0m\n\u001b[0;32m    220\u001b[0m     \u001b[1;32melse\u001b[0m\u001b[1;33m:\u001b[0m\u001b[1;33m\u001b[0m\u001b[1;33m\u001b[0m\u001b[0m\n\u001b[0;32m    221\u001b[0m         \u001b[0mopener\u001b[0m \u001b[1;33m=\u001b[0m \u001b[0m_opener\u001b[0m\u001b[1;33m\u001b[0m\u001b[1;33m\u001b[0m\u001b[0m\n\u001b[1;32m--> 222\u001b[1;33m     \u001b[1;32mreturn\u001b[0m \u001b[0mopener\u001b[0m\u001b[1;33m.\u001b[0m\u001b[0mopen\u001b[0m\u001b[1;33m(\u001b[0m\u001b[0murl\u001b[0m\u001b[1;33m,\u001b[0m \u001b[0mdata\u001b[0m\u001b[1;33m,\u001b[0m \u001b[0mtimeout\u001b[0m\u001b[1;33m)\u001b[0m\u001b[1;33m\u001b[0m\u001b[1;33m\u001b[0m\u001b[0m\n\u001b[0m\u001b[0;32m    223\u001b[0m \u001b[1;33m\u001b[0m\u001b[0m\n\u001b[0;32m    224\u001b[0m \u001b[1;32mdef\u001b[0m \u001b[0minstall_opener\u001b[0m\u001b[1;33m(\u001b[0m\u001b[0mopener\u001b[0m\u001b[1;33m)\u001b[0m\u001b[1;33m:\u001b[0m\u001b[1;33m\u001b[0m\u001b[1;33m\u001b[0m\u001b[0m\n",
      "\u001b[1;32m~\\Miniconda3\\envs\\nims-academy-2019-08\\lib\\urllib\\request.py\u001b[0m in \u001b[0;36mopen\u001b[1;34m(self, fullurl, data, timeout)\u001b[0m\n\u001b[0;32m    523\u001b[0m             \u001b[0mreq\u001b[0m \u001b[1;33m=\u001b[0m \u001b[0mmeth\u001b[0m\u001b[1;33m(\u001b[0m\u001b[0mreq\u001b[0m\u001b[1;33m)\u001b[0m\u001b[1;33m\u001b[0m\u001b[1;33m\u001b[0m\u001b[0m\n\u001b[0;32m    524\u001b[0m \u001b[1;33m\u001b[0m\u001b[0m\n\u001b[1;32m--> 525\u001b[1;33m         \u001b[0mresponse\u001b[0m \u001b[1;33m=\u001b[0m \u001b[0mself\u001b[0m\u001b[1;33m.\u001b[0m\u001b[0m_open\u001b[0m\u001b[1;33m(\u001b[0m\u001b[0mreq\u001b[0m\u001b[1;33m,\u001b[0m \u001b[0mdata\u001b[0m\u001b[1;33m)\u001b[0m\u001b[1;33m\u001b[0m\u001b[1;33m\u001b[0m\u001b[0m\n\u001b[0m\u001b[0;32m    526\u001b[0m \u001b[1;33m\u001b[0m\u001b[0m\n\u001b[0;32m    527\u001b[0m         \u001b[1;31m# post-process response\u001b[0m\u001b[1;33m\u001b[0m\u001b[1;33m\u001b[0m\u001b[1;33m\u001b[0m\u001b[0m\n",
      "\u001b[1;32m~\\Miniconda3\\envs\\nims-academy-2019-08\\lib\\urllib\\request.py\u001b[0m in \u001b[0;36m_open\u001b[1;34m(self, req, data)\u001b[0m\n\u001b[0;32m    541\u001b[0m         \u001b[0mprotocol\u001b[0m \u001b[1;33m=\u001b[0m \u001b[0mreq\u001b[0m\u001b[1;33m.\u001b[0m\u001b[0mtype\u001b[0m\u001b[1;33m\u001b[0m\u001b[1;33m\u001b[0m\u001b[0m\n\u001b[0;32m    542\u001b[0m         result = self._call_chain(self.handle_open, protocol, protocol +\n\u001b[1;32m--> 543\u001b[1;33m                                   '_open', req)\n\u001b[0m\u001b[0;32m    544\u001b[0m         \u001b[1;32mif\u001b[0m \u001b[0mresult\u001b[0m\u001b[1;33m:\u001b[0m\u001b[1;33m\u001b[0m\u001b[1;33m\u001b[0m\u001b[0m\n\u001b[0;32m    545\u001b[0m             \u001b[1;32mreturn\u001b[0m \u001b[0mresult\u001b[0m\u001b[1;33m\u001b[0m\u001b[1;33m\u001b[0m\u001b[0m\n",
      "\u001b[1;32m~\\Miniconda3\\envs\\nims-academy-2019-08\\lib\\urllib\\request.py\u001b[0m in \u001b[0;36m_call_chain\u001b[1;34m(self, chain, kind, meth_name, *args)\u001b[0m\n\u001b[0;32m    501\u001b[0m         \u001b[1;32mfor\u001b[0m \u001b[0mhandler\u001b[0m \u001b[1;32min\u001b[0m \u001b[0mhandlers\u001b[0m\u001b[1;33m:\u001b[0m\u001b[1;33m\u001b[0m\u001b[1;33m\u001b[0m\u001b[0m\n\u001b[0;32m    502\u001b[0m             \u001b[0mfunc\u001b[0m \u001b[1;33m=\u001b[0m \u001b[0mgetattr\u001b[0m\u001b[1;33m(\u001b[0m\u001b[0mhandler\u001b[0m\u001b[1;33m,\u001b[0m \u001b[0mmeth_name\u001b[0m\u001b[1;33m)\u001b[0m\u001b[1;33m\u001b[0m\u001b[1;33m\u001b[0m\u001b[0m\n\u001b[1;32m--> 503\u001b[1;33m             \u001b[0mresult\u001b[0m \u001b[1;33m=\u001b[0m \u001b[0mfunc\u001b[0m\u001b[1;33m(\u001b[0m\u001b[1;33m*\u001b[0m\u001b[0margs\u001b[0m\u001b[1;33m)\u001b[0m\u001b[1;33m\u001b[0m\u001b[1;33m\u001b[0m\u001b[0m\n\u001b[0m\u001b[0;32m    504\u001b[0m             \u001b[1;32mif\u001b[0m \u001b[0mresult\u001b[0m \u001b[1;32mis\u001b[0m \u001b[1;32mnot\u001b[0m \u001b[1;32mNone\u001b[0m\u001b[1;33m:\u001b[0m\u001b[1;33m\u001b[0m\u001b[1;33m\u001b[0m\u001b[0m\n\u001b[0;32m    505\u001b[0m                 \u001b[1;32mreturn\u001b[0m \u001b[0mresult\u001b[0m\u001b[1;33m\u001b[0m\u001b[1;33m\u001b[0m\u001b[0m\n",
      "\u001b[1;32m~\\Miniconda3\\envs\\nims-academy-2019-08\\lib\\urllib\\request.py\u001b[0m in \u001b[0;36mhttp_open\u001b[1;34m(self, req)\u001b[0m\n\u001b[0;32m   1343\u001b[0m \u001b[1;33m\u001b[0m\u001b[0m\n\u001b[0;32m   1344\u001b[0m     \u001b[1;32mdef\u001b[0m \u001b[0mhttp_open\u001b[0m\u001b[1;33m(\u001b[0m\u001b[0mself\u001b[0m\u001b[1;33m,\u001b[0m \u001b[0mreq\u001b[0m\u001b[1;33m)\u001b[0m\u001b[1;33m:\u001b[0m\u001b[1;33m\u001b[0m\u001b[1;33m\u001b[0m\u001b[0m\n\u001b[1;32m-> 1345\u001b[1;33m         \u001b[1;32mreturn\u001b[0m \u001b[0mself\u001b[0m\u001b[1;33m.\u001b[0m\u001b[0mdo_open\u001b[0m\u001b[1;33m(\u001b[0m\u001b[0mhttp\u001b[0m\u001b[1;33m.\u001b[0m\u001b[0mclient\u001b[0m\u001b[1;33m.\u001b[0m\u001b[0mHTTPConnection\u001b[0m\u001b[1;33m,\u001b[0m \u001b[0mreq\u001b[0m\u001b[1;33m)\u001b[0m\u001b[1;33m\u001b[0m\u001b[1;33m\u001b[0m\u001b[0m\n\u001b[0m\u001b[0;32m   1346\u001b[0m \u001b[1;33m\u001b[0m\u001b[0m\n\u001b[0;32m   1347\u001b[0m     \u001b[0mhttp_request\u001b[0m \u001b[1;33m=\u001b[0m \u001b[0mAbstractHTTPHandler\u001b[0m\u001b[1;33m.\u001b[0m\u001b[0mdo_request_\u001b[0m\u001b[1;33m\u001b[0m\u001b[1;33m\u001b[0m\u001b[0m\n",
      "\u001b[1;32m~\\Miniconda3\\envs\\nims-academy-2019-08\\lib\\urllib\\request.py\u001b[0m in \u001b[0;36mdo_open\u001b[1;34m(self, http_class, req, **http_conn_args)\u001b[0m\n\u001b[0;32m   1315\u001b[0m             \u001b[1;32mtry\u001b[0m\u001b[1;33m:\u001b[0m\u001b[1;33m\u001b[0m\u001b[1;33m\u001b[0m\u001b[0m\n\u001b[0;32m   1316\u001b[0m                 h.request(req.get_method(), req.selector, req.data, headers,\n\u001b[1;32m-> 1317\u001b[1;33m                           encode_chunked=req.has_header('Transfer-encoding'))\n\u001b[0m\u001b[0;32m   1318\u001b[0m             \u001b[1;32mexcept\u001b[0m \u001b[0mOSError\u001b[0m \u001b[1;32mas\u001b[0m \u001b[0merr\u001b[0m\u001b[1;33m:\u001b[0m \u001b[1;31m# timeout error\u001b[0m\u001b[1;33m\u001b[0m\u001b[1;33m\u001b[0m\u001b[0m\n\u001b[0;32m   1319\u001b[0m                 \u001b[1;32mraise\u001b[0m \u001b[0mURLError\u001b[0m\u001b[1;33m(\u001b[0m\u001b[0merr\u001b[0m\u001b[1;33m)\u001b[0m\u001b[1;33m\u001b[0m\u001b[1;33m\u001b[0m\u001b[0m\n",
      "\u001b[1;32m~\\Miniconda3\\envs\\nims-academy-2019-08\\lib\\http\\client.py\u001b[0m in \u001b[0;36mrequest\u001b[1;34m(self, method, url, body, headers, encode_chunked)\u001b[0m\n\u001b[0;32m   1227\u001b[0m                 encode_chunked=False):\n\u001b[0;32m   1228\u001b[0m         \u001b[1;34m\"\"\"Send a complete request to the server.\"\"\"\u001b[0m\u001b[1;33m\u001b[0m\u001b[1;33m\u001b[0m\u001b[0m\n\u001b[1;32m-> 1229\u001b[1;33m         \u001b[0mself\u001b[0m\u001b[1;33m.\u001b[0m\u001b[0m_send_request\u001b[0m\u001b[1;33m(\u001b[0m\u001b[0mmethod\u001b[0m\u001b[1;33m,\u001b[0m \u001b[0murl\u001b[0m\u001b[1;33m,\u001b[0m \u001b[0mbody\u001b[0m\u001b[1;33m,\u001b[0m \u001b[0mheaders\u001b[0m\u001b[1;33m,\u001b[0m \u001b[0mencode_chunked\u001b[0m\u001b[1;33m)\u001b[0m\u001b[1;33m\u001b[0m\u001b[1;33m\u001b[0m\u001b[0m\n\u001b[0m\u001b[0;32m   1230\u001b[0m \u001b[1;33m\u001b[0m\u001b[0m\n\u001b[0;32m   1231\u001b[0m     \u001b[1;32mdef\u001b[0m \u001b[0m_send_request\u001b[0m\u001b[1;33m(\u001b[0m\u001b[0mself\u001b[0m\u001b[1;33m,\u001b[0m \u001b[0mmethod\u001b[0m\u001b[1;33m,\u001b[0m \u001b[0murl\u001b[0m\u001b[1;33m,\u001b[0m \u001b[0mbody\u001b[0m\u001b[1;33m,\u001b[0m \u001b[0mheaders\u001b[0m\u001b[1;33m,\u001b[0m \u001b[0mencode_chunked\u001b[0m\u001b[1;33m)\u001b[0m\u001b[1;33m:\u001b[0m\u001b[1;33m\u001b[0m\u001b[1;33m\u001b[0m\u001b[0m\n",
      "\u001b[1;32m~\\Miniconda3\\envs\\nims-academy-2019-08\\lib\\http\\client.py\u001b[0m in \u001b[0;36m_send_request\u001b[1;34m(self, method, url, body, headers, encode_chunked)\u001b[0m\n\u001b[0;32m   1268\u001b[0m \u001b[1;33m\u001b[0m\u001b[0m\n\u001b[0;32m   1269\u001b[0m         \u001b[1;32mfor\u001b[0m \u001b[0mhdr\u001b[0m\u001b[1;33m,\u001b[0m \u001b[0mvalue\u001b[0m \u001b[1;32min\u001b[0m \u001b[0mheaders\u001b[0m\u001b[1;33m.\u001b[0m\u001b[0mitems\u001b[0m\u001b[1;33m(\u001b[0m\u001b[1;33m)\u001b[0m\u001b[1;33m:\u001b[0m\u001b[1;33m\u001b[0m\u001b[1;33m\u001b[0m\u001b[0m\n\u001b[1;32m-> 1270\u001b[1;33m             \u001b[0mself\u001b[0m\u001b[1;33m.\u001b[0m\u001b[0mputheader\u001b[0m\u001b[1;33m(\u001b[0m\u001b[0mhdr\u001b[0m\u001b[1;33m,\u001b[0m \u001b[0mvalue\u001b[0m\u001b[1;33m)\u001b[0m\u001b[1;33m\u001b[0m\u001b[1;33m\u001b[0m\u001b[0m\n\u001b[0m\u001b[0;32m   1271\u001b[0m         \u001b[1;32mif\u001b[0m \u001b[0misinstance\u001b[0m\u001b[1;33m(\u001b[0m\u001b[0mbody\u001b[0m\u001b[1;33m,\u001b[0m \u001b[0mstr\u001b[0m\u001b[1;33m)\u001b[0m\u001b[1;33m:\u001b[0m\u001b[1;33m\u001b[0m\u001b[1;33m\u001b[0m\u001b[0m\n\u001b[0;32m   1272\u001b[0m             \u001b[1;31m# RFC 2616 Section 3.7.1 says that text default has a\u001b[0m\u001b[1;33m\u001b[0m\u001b[1;33m\u001b[0m\u001b[1;33m\u001b[0m\u001b[0m\n",
      "\u001b[1;32m~\\Miniconda3\\envs\\nims-academy-2019-08\\lib\\http\\client.py\u001b[0m in \u001b[0;36mputheader\u001b[1;34m(self, header, *values)\u001b[0m\n\u001b[0;32m   1200\u001b[0m         \u001b[1;32mfor\u001b[0m \u001b[0mi\u001b[0m\u001b[1;33m,\u001b[0m \u001b[0mone_value\u001b[0m \u001b[1;32min\u001b[0m \u001b[0menumerate\u001b[0m\u001b[1;33m(\u001b[0m\u001b[0mvalues\u001b[0m\u001b[1;33m)\u001b[0m\u001b[1;33m:\u001b[0m\u001b[1;33m\u001b[0m\u001b[1;33m\u001b[0m\u001b[0m\n\u001b[0;32m   1201\u001b[0m             \u001b[1;32mif\u001b[0m \u001b[0mhasattr\u001b[0m\u001b[1;33m(\u001b[0m\u001b[0mone_value\u001b[0m\u001b[1;33m,\u001b[0m \u001b[1;34m'encode'\u001b[0m\u001b[1;33m)\u001b[0m\u001b[1;33m:\u001b[0m\u001b[1;33m\u001b[0m\u001b[1;33m\u001b[0m\u001b[0m\n\u001b[1;32m-> 1202\u001b[1;33m                 \u001b[0mvalues\u001b[0m\u001b[1;33m[\u001b[0m\u001b[0mi\u001b[0m\u001b[1;33m]\u001b[0m \u001b[1;33m=\u001b[0m \u001b[0mone_value\u001b[0m\u001b[1;33m.\u001b[0m\u001b[0mencode\u001b[0m\u001b[1;33m(\u001b[0m\u001b[1;34m'latin-1'\u001b[0m\u001b[1;33m)\u001b[0m\u001b[1;33m\u001b[0m\u001b[1;33m\u001b[0m\u001b[0m\n\u001b[0m\u001b[0;32m   1203\u001b[0m             \u001b[1;32melif\u001b[0m \u001b[0misinstance\u001b[0m\u001b[1;33m(\u001b[0m\u001b[0mone_value\u001b[0m\u001b[1;33m,\u001b[0m \u001b[0mint\u001b[0m\u001b[1;33m)\u001b[0m\u001b[1;33m:\u001b[0m\u001b[1;33m\u001b[0m\u001b[1;33m\u001b[0m\u001b[0m\n\u001b[0;32m   1204\u001b[0m                 \u001b[0mvalues\u001b[0m\u001b[1;33m[\u001b[0m\u001b[0mi\u001b[0m\u001b[1;33m]\u001b[0m \u001b[1;33m=\u001b[0m \u001b[0mstr\u001b[0m\u001b[1;33m(\u001b[0m\u001b[0mone_value\u001b[0m\u001b[1;33m)\u001b[0m\u001b[1;33m.\u001b[0m\u001b[0mencode\u001b[0m\u001b[1;33m(\u001b[0m\u001b[1;34m'ascii'\u001b[0m\u001b[1;33m)\u001b[0m\u001b[1;33m\u001b[0m\u001b[1;33m\u001b[0m\u001b[0m\n",
      "\u001b[1;31mUnicodeEncodeError\u001b[0m: 'latin-1' codec can't encode characters in position 4-8: ordinal not in range(256)"
     ]
    }
   ],
   "source": [
    "for url in url_list:\n",
    "    response01 = urlopen(url)\n",
    "    soup01 = BeautifulSoup(response01, \"html.parser\")\n",
    "    tmp01 =soup01.select('title')\n",
    "    for line in tmp01:\n",
    "        tmp01_list.append(line.text)\n",
    "tmp01_list"
   ]
  },
  {
   "cell_type": "code",
   "execution_count": null,
   "metadata": {},
   "outputs": [],
   "source": []
  }
 ],
 "metadata": {
  "kernelspec": {
   "display_name": "Python 3",
   "language": "python",
   "name": "python3"
  },
  "language_info": {
   "codemirror_mode": {
    "name": "ipython",
    "version": 3
   },
   "file_extension": ".py",
   "mimetype": "text/x-python",
   "name": "python",
   "nbconvert_exporter": "python",
   "pygments_lexer": "ipython3",
   "version": "3.7.3"
  }
 },
 "nbformat": 4,
 "nbformat_minor": 4
}
